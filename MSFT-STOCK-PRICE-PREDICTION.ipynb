{
 "cells": [
  {
   "cell_type": "code",
   "execution_count": 1,
   "metadata": {},
   "outputs": [],
   "source": [
    "# Import dependencies \n",
    "import pandas as pd\n",
    "import numpy as np\n",
    "from sklearn.linear_model import LinearRegression\n",
    "from sklearn.linear_model import Ridge\n",
    "from sklearn.preprocessing import PolynomialFeatures\n",
    "from sklearn.pipeline import make_pipeline\n",
    "from sklearn.model_selection import train_test_split\n",
    "from sklearn import preprocessing\n",
    "from sklearn.svm import SVR\n",
    "import matplotlib.pyplot as plt\n",
    "import datetime\n",
    "import math\n",
    "%matplotlib inline"
   ]
  },
  {
   "cell_type": "code",
   "execution_count": 2,
   "metadata": {
    "scrolled": true
   },
   "outputs": [
    {
     "data": {
      "text/html": [
       "<div>\n",
       "<style scoped>\n",
       "    .dataframe tbody tr th:only-of-type {\n",
       "        vertical-align: middle;\n",
       "    }\n",
       "\n",
       "    .dataframe tbody tr th {\n",
       "        vertical-align: top;\n",
       "    }\n",
       "\n",
       "    .dataframe thead th {\n",
       "        text-align: right;\n",
       "    }\n",
       "</style>\n",
       "<table border=\"1\" class=\"dataframe\">\n",
       "  <thead>\n",
       "    <tr style=\"text-align: right;\">\n",
       "      <th></th>\n",
       "      <th>Open</th>\n",
       "      <th>High</th>\n",
       "      <th>Low</th>\n",
       "      <th>Close</th>\n",
       "      <th>Adj Close</th>\n",
       "      <th>Volume</th>\n",
       "    </tr>\n",
       "    <tr>\n",
       "      <th>Date</th>\n",
       "      <th></th>\n",
       "      <th></th>\n",
       "      <th></th>\n",
       "      <th></th>\n",
       "      <th></th>\n",
       "      <th></th>\n",
       "    </tr>\n",
       "  </thead>\n",
       "  <tbody>\n",
       "    <tr>\n",
       "      <th>2018-09-05</th>\n",
       "      <td>111.010002</td>\n",
       "      <td>111.419998</td>\n",
       "      <td>108.099998</td>\n",
       "      <td>108.489998</td>\n",
       "      <td>106.811584</td>\n",
       "      <td>32872400</td>\n",
       "    </tr>\n",
       "    <tr>\n",
       "      <th>2018-09-06</th>\n",
       "      <td>108.250000</td>\n",
       "      <td>108.989998</td>\n",
       "      <td>107.510002</td>\n",
       "      <td>108.739998</td>\n",
       "      <td>107.057709</td>\n",
       "      <td>23477600</td>\n",
       "    </tr>\n",
       "    <tr>\n",
       "      <th>2018-09-07</th>\n",
       "      <td>108.230003</td>\n",
       "      <td>108.720001</td>\n",
       "      <td>107.230003</td>\n",
       "      <td>108.209999</td>\n",
       "      <td>106.535919</td>\n",
       "      <td>22498600</td>\n",
       "    </tr>\n",
       "    <tr>\n",
       "      <th>2018-09-10</th>\n",
       "      <td>108.839996</td>\n",
       "      <td>109.639999</td>\n",
       "      <td>108.360001</td>\n",
       "      <td>109.379997</td>\n",
       "      <td>107.687813</td>\n",
       "      <td>20727900</td>\n",
       "    </tr>\n",
       "    <tr>\n",
       "      <th>2018-09-11</th>\n",
       "      <td>108.900002</td>\n",
       "      <td>111.589996</td>\n",
       "      <td>108.889999</td>\n",
       "      <td>111.239998</td>\n",
       "      <td>109.519043</td>\n",
       "      <td>24301800</td>\n",
       "    </tr>\n",
       "  </tbody>\n",
       "</table>\n",
       "</div>"
      ],
      "text/plain": [
       "                  Open        High         Low       Close   Adj Close  \\\n",
       "Date                                                                     \n",
       "2018-09-05  111.010002  111.419998  108.099998  108.489998  106.811584   \n",
       "2018-09-06  108.250000  108.989998  107.510002  108.739998  107.057709   \n",
       "2018-09-07  108.230003  108.720001  107.230003  108.209999  106.535919   \n",
       "2018-09-10  108.839996  109.639999  108.360001  109.379997  107.687813   \n",
       "2018-09-11  108.900002  111.589996  108.889999  111.239998  109.519043   \n",
       "\n",
       "              Volume  \n",
       "Date                  \n",
       "2018-09-05  32872400  \n",
       "2018-09-06  23477600  \n",
       "2018-09-07  22498600  \n",
       "2018-09-10  20727900  \n",
       "2018-09-11  24301800  "
      ]
     },
     "execution_count": 2,
     "metadata": {},
     "output_type": "execute_result"
    }
   ],
   "source": [
    "# Load Microsoft stock price data set\n",
    "df = pd.read_csv('MSFT.csv', parse_dates =['Date'], index_col ='Date', delimiter=',')\n",
    "df.head()"
   ]
  },
  {
   "cell_type": "code",
   "execution_count": 3,
   "metadata": {
    "scrolled": false
   },
   "outputs": [
    {
     "data": {
      "text/plain": [
       "Open         False\n",
       "High         False\n",
       "Low          False\n",
       "Close        False\n",
       "Adj Close    False\n",
       "Volume       False\n",
       "dtype: bool"
      ]
     },
     "execution_count": 3,
     "metadata": {},
     "output_type": "execute_result"
    }
   ],
   "source": [
    "df.isnull().any()"
   ]
  },
  {
   "cell_type": "code",
   "execution_count": 4,
   "metadata": {},
   "outputs": [],
   "source": [
    "#Get independent variable Adj Close\n",
    "df = df[['Adj Close']]"
   ]
  },
  {
   "cell_type": "code",
   "execution_count": 5,
   "metadata": {
    "scrolled": true
   },
   "outputs": [],
   "source": [
    "# A variable for predicting 'n' days out into the future\n",
    "forecast_out = int(math.ceil(0.03 * len(df)))\n",
    "\n",
    "#Create another column (dependent or target variable) shifted 'n' units up\n",
    "df['Prediction'] = df[['Adj Close']].shift(-forecast_out)"
   ]
  },
  {
   "cell_type": "code",
   "execution_count": 7,
   "metadata": {
    "scrolled": false
   },
   "outputs": [],
   "source": [
    "# Create independent data set (X)\n",
    "# Convert the dataframe to a numpy array\n",
    "X = np.array(df.drop(['Prediction'], 1))\n",
    "\n",
    "#Scale the features to normalize the data\n",
    "X = preprocessing.scale(X)\n",
    "\n",
    "# Remove the last 'n' rows\n",
    "X = X[:-forecast_out]"
   ]
  },
  {
   "cell_type": "code",
   "execution_count": 8,
   "metadata": {
    "scrolled": true
   },
   "outputs": [],
   "source": [
    "# Create the dependent data set (y)\n",
    "# Convert the dataframe to numpy array\n",
    "y = np.array(df['Prediction'])\n",
    "\n",
    "# Get all y values except 'n' rows\n",
    "y = y[:-forecast_out]"
   ]
  },
  {
   "cell_type": "code",
   "execution_count": 9,
   "metadata": {},
   "outputs": [],
   "source": [
    "# Split data set into 80% training and 20% testing \n",
    "X_train, X_test, y_train, y_test = train_test_split(X, y, test_size=0.2)"
   ]
  },
  {
   "cell_type": "code",
   "execution_count": 10,
   "metadata": {
    "scrolled": false
   },
   "outputs": [
    {
     "data": {
      "text/plain": [
       "Pipeline(memory=None,\n",
       "     steps=[('polynomialfeatures', PolynomialFeatures(degree=3, include_bias=True, interaction_only=False)), ('ridge', Ridge(alpha=1.0, copy_X=True, fit_intercept=True, max_iter=None,\n",
       "   normalize=False, random_state=None, solver='auto', tol=0.001))])"
      ]
     },
     "execution_count": 10,
     "metadata": {},
     "output_type": "execute_result"
    }
   ],
   "source": [
    "# Create and train Linear, quadratic and polynomial regression models\n",
    "\n",
    "# Linear regression\n",
    "lr = LinearRegression()\n",
    "lr.fit(X_train, y_train)\n",
    "\n",
    "# Quadratic Regression 2\n",
    "reg_poly2 = make_pipeline(PolynomialFeatures(2), Ridge())\n",
    "reg_poly2.fit(X_train, y_train)\n",
    "\n",
    "# Quadratic Regression 3\n",
    "reg_poly3 = make_pipeline(PolynomialFeatures(3), Ridge())\n",
    "reg_poly3.fit(X_train, y_train)"
   ]
  },
  {
   "cell_type": "code",
   "execution_count": 11,
   "metadata": {},
   "outputs": [
    {
     "data": {
      "text/plain": [
       "SVR(C=1000.0, cache_size=200, coef0=0.0, degree=3, epsilon=0.1, gamma=0.1,\n",
       "  kernel='rbf', max_iter=-1, shrinking=True, tol=0.001, verbose=False)"
      ]
     },
     "execution_count": 11,
     "metadata": {},
     "output_type": "execute_result"
    }
   ],
   "source": [
    "# Create and train Support Vector Machine (Regressor) model\n",
    "\n",
    "svr_rbf = SVR(kernel = 'rbf', C=1e3, gamma = 0.1)\n",
    "svr_rbf.fit(X_train, y_train)"
   ]
  },
  {
   "cell_type": "code",
   "execution_count": 12,
   "metadata": {
    "scrolled": true
   },
   "outputs": [
    {
     "name": "stdout",
     "output_type": "stream",
     "text": [
      "The linear regression confidence is:  0.8742186725679312\n",
      "The quadratic regression 2 confidence is:  0.8735900280066793\n",
      "The quadratic regression 3 confidence is :  0.8810159368217841\n",
      "The svm confidence is:  0.8758021405002601\n"
     ]
    }
   ],
   "source": [
    "# Model Evaluation: score returns the confidence of determination R^2 of the prediction.\n",
    "\n",
    "confidence_lr = lr.score(X_test, y_test)\n",
    "confidence_reg_poly2 = reg_poly2.score(X_test,y_test)\n",
    "confidence_reg_poly3 = reg_poly3.score(X_test,y_test)\n",
    "confidence_svm = svr_rbf.score(X_test, y_test)\n",
    "\n",
    "print('The linear regression confidence is: ', confidence_lr)\n",
    "print('The quadratic regression 2 confidence is: ', confidence_reg_poly2)\n",
    "print('The quadratic regression 3 confidence is : ', confidence_reg_poly3)\n",
    "print('The svm confidence is: ', confidence_svm)"
   ]
  },
  {
   "cell_type": "code",
   "execution_count": 13,
   "metadata": {},
   "outputs": [],
   "source": [
    "# Set x_forecast equal to the last 'n' rows of the original data set from the Adj Close column\n",
    "x_forecast = np.array(df.drop(['Prediction'], 1))[-forecast_out:]"
   ]
  },
  {
   "cell_type": "code",
   "execution_count": 14,
   "metadata": {
    "scrolled": true
   },
   "outputs": [
    {
     "name": "stdout",
     "output_type": "stream",
     "text": [
      "The linear regression prediction is:  [1842.12610916 1845.8162858  1843.52580545 1876.10022102 1872.79195441\n",
      " 1849.6334519  1869.86539423 1900.65840708]\n",
      "The quadratic regression 2 prediction is:  [-471.65994631 -477.88031786 -474.01686093 -529.7287077  -523.99530814\n",
      " -484.33703407 -518.93761472 -572.82149417]\n",
      "The quadratic regression 3 prediction is :  [-4616693.98538445 -4646435.03139614 -4627959.87958201 -4895347.80497229\n",
      " -4867733.97964265 -4677333.64092601 -4843392.94294987 -5103604.34230897]\n",
      "The svm prediction is:  [113.27256325 113.27256325 113.27256325 113.27256325 113.27256325\n",
      " 113.27256325 113.27256325 113.27256325]\n"
     ]
    }
   ],
   "source": [
    "# Print model predictions for the next 'n' days\n",
    "\n",
    "lr_prediction = lr.predict(x_forecast)\n",
    "reg_poly2_prediction = reg_poly2.predict(x_forecast)\n",
    "reg_poly3_prediction = reg_poly3.predict(x_forecast)\n",
    "svm_prediction = svr_rbf.predict(x_forecast)\n",
    "\n",
    "print('The linear regression prediction is: ', lr_prediction)\n",
    "print('The quadratic regression 2 prediction is: ', reg_poly2_prediction)\n",
    "print('The quadratic regression 3 prediction is : ', reg_poly3_prediction)\n",
    "print('The svm prediction is: ', svm_prediction)"
   ]
  },
  {
   "cell_type": "code",
   "execution_count": 16,
   "metadata": {},
   "outputs": [
    {
     "data": {
      "image/png": "[encoded data removed]",
      "text/plain": [
       "<Figure size 720x360 with 1 Axes>"
      ]
     },
     "metadata": {
      "needs_background": "light"
     },
     "output_type": "display_data"
    }
   ],
   "source": [
    "# Visualize predictions\n",
    "\n",
    "forecast_set = svr_rbf.predict(x_forecast)\n",
    "\n",
    "df['Forecast'] = np.nan\n",
    "\n",
    "last_date = df.iloc[-1].name\n",
    "last_unix = last_date\n",
    "next_unix = last_unix + datetime.timedelta(days=1)\n",
    "\n",
    "for i in forecast_set:\n",
    "    next_date = next_unix\n",
    "    next_unix += datetime.timedelta(days=1)\n",
    "    df.loc[next_date] = [np.nan for _ in range(len(df.columns)-1)]+[i]\n",
    "\n",
    "plt.figure(figsize=(10, 5))\n",
    "df['Adj Close'].plot()\n",
    "df['Forecast'].plot()\n",
    "plt.legend(loc=2)\n",
    "plt.xlabel('Date')\n",
    "plt.xticks(rotation=45)\n",
    "plt.ylabel('Price')\n",
    "plt.title('Support Vector Regression')\n",
    "plt.show()"
   ]
  }
 ],
 "metadata": {
  "kernelspec": {
   "display_name": "Python 3",
   "language": "python",
   "name": "python3"
  },
  "language_info": {
   "codemirror_mode": {
    "name": "ipython",
    "version": 3
   },
   "file_extension": ".py",
   "mimetype": "text/x-python",
   "name": "python",
   "nbconvert_exporter": "python",
   "pygments_lexer": "ipython3",
   "version": "3.7.1"
  }
 },
 "nbformat": 4,
 "nbformat_minor": 2
}
